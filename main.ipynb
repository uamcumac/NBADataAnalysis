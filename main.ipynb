{
 "cells": [
  {
   "cell_type": "markdown",
   "source": [
    "# Course Project - NBA data analysis (Due: 20 Dec 2021)\n",
    "\n",
    "Group BD"
   ],
   "metadata": {
    "collapsed": false
   }
  },
  {
   "cell_type": "markdown",
   "source": [
    "## Task-1\n",
    "1. [40%] Your boss would like to know the top-3 players of the best [cost–performance ratio](https://en.wikipedia.org/wiki/Price%E2%80%93performance_ratio) in 2020/2021 season, where the cost and the performance can be calculated by\n",
    "    - PERFORMANCE: [Efficiency equation](https://en.wikipedia.org/wiki/Efficiency_(basketball)#:~:text=The%20NBA%20publishes%20online%20all%20of%20the%20basic,FG%20%E2%88%92%20Missed%20FT%20-%20TO%29%20%2F%20GP) based on the statistics in the **(3) Kaggle 2020/2021 season data**.\n",
    "        - You could replace this equation if there is any better option.\n",
    "    - COST: Salary in talbe \"Player_Salary\" of **(1) Kaggle basketball dataset**.\n",
    "    - You are welcome to develop any better eqaution(s) to estimate the CP ratio to rank the top-3 players.\n"
   ],
   "metadata": {
    "collapsed": false
   }
  },
  {
   "cell_type": "code",
   "metadata": {
    "collapsed": true,
    "pycharm": {
     "name": "#%%\n"
    }
   },
   "source": [
    "import pandas as pd\n",
    "import numpy as np\n",
    "import sqlite3\n",
    "\n",
    "\"\"\"\n",
    "Efficiency equation：\n",
    "(PTS + REB + AST + STL + BLK − Missed FG − Missed FT - TO) / GP\n",
    "PTS: Points 得分\n",
    "REB, OREB, DREB: (Rebound) 篮板, 进攻篮板, 防守篮板\n",
    "AST： (Assist缩写) 助攻\n",
    "STL: Steals 抢断、断球\n",
    "BLK: Blocks 盖帽\n",
    "FG: Field Goals 投球命中（次数）/投篮(总称)，包括两分、三分球的投篮\n",
    "FT：Free Throws 罚球\n",
    "TOV（或TO）: Turnovers 失误次数\n",
    "GM, GP; GS: games played; games started\n",
    "\"\"\"\n",
    "\n",
    "\n",
    "con = sqlite3.connect('datasets/basketball.sqlite')\n",
    "cur = con.cursor()\n",
    "\n",
    "df = pd.read_csv('datasets/nba2021_per_game.csv')\n",
    "\n",
    "cps = {}\n",
    "rank = []\n",
    "\n",
    "\n",
    "def Efficiency(r):\n",
    "    return r['PTS'] + r['ORB'] + r['DRB'] + r['AST'] + r['STL'] + r['BLK'] - (r['FGA'] - r['FG']) \\\n",
    "           - (r['FTA'] - r['FT']) - r['TOV']\n",
    "\n",
    "\n",
    "def get_salary(name):\n",
    "    salarys = pd.read_sql_query(\"SELECT value FROM Player_Salary WHERE namePlayer = ?\", con, params=(name,))\n",
    "    return np.average(salarys) / 1000000 if len(salarys) != 0 else -1\n",
    "\n",
    "\n",
    "for i in range(len(df)):\n",
    "    record = df.iloc[i]\n",
    "    EFF = Efficiency(record)\n",
    "    salary = get_salary(record['Player'])\n",
    "    if salary == -1:\n",
    "        continue\n",
    "    name = EFF / salary\n",
    "    if record['Player'] not in cps.keys():\n",
    "        cps[record['Player']] = []\n",
    "    cps[record['Player']].append(name)\n",
    "\n",
    "for name in cps.keys():\n",
    "    if len(cps[name]) > 1:\n",
    "        cps[name] = np.average(cps[name])\n",
    "    rank.append([name, cps[name]])\n",
    "list.sort(rank, key=lambda x: x[1], reverse=True)\n",
    "print('the top-3 players are:')\n",
    "for i in range(3):\n",
    "    print(*rank[i])"
   ],
   "execution_count": 1,
   "outputs": [
    {
     "name": "stdout",
     "output_type": "stream",
     "text": [
      "the top-3 players are:\n",
      "Chimezie Metu [94.0]\n",
      "Mason Jones [81.26381484852426]\n",
      "Yogi Ferrell [76.57795635957405]\n"
     ]
    }
   ]
  },
  {
   "cell_type": "markdown",
   "source": [
    "## Task-2\n",
    "2. [40%] Your boss would like to know the **winning secret** from the games in 2020/2021. Please give your finding by carefully anaylzing the data in the table \"game\" of **(1) Kaggle basketball dataset**.\n",
    "    - For instance, you can say that the **winning secret** to win a game is to **score more than your rival** since the **correlation** between the **winning status (1)** and **score more than your rival (1)** is always ONE (strongly correlated). However, this is definitely a bad idea to tell this **fact** to your boss.\n",
    "    - After a careful analysis, you may find that the [field goal percentage (FG%)](https://en.wikipedia.org/wiki/Field_goal_percentage) (or any other combinations) is the **winning secret**\n",
    "    since bilibala bilibala..."
   ],
   "metadata": {
    "collapsed": false
   }
  },
  {
   "cell_type": "code",
   "execution_count": 2,
   "outputs": [
    {
     "name": "stdout",
     "output_type": "stream",
     "text": [
      "For home team:\n",
      "\tStrong correlation between win:\n",
      "\t\tPLUS_MINUS_HOME: 0.804, HOME_TEAM_WINS: 0.661, PTS_HOME_y: 0.52, PTS_HOME: 0.505\n",
      "\tModerate correlation between win:\n",
      "\t\tFG_PCT_HOME: 0.463, FGM_HOME: 0.396, FG3_PCT_HOME: 0.396\n",
      "\n",
      "For away team:\n",
      "\tStrong correlation between win:\n",
      "\t\tPLUS_MINUS_AWAY: 0.804, HOME_TEAM_LOSSES: 0.637\n",
      "\tModerate correlation between win:\n",
      "\t\tFG_PCT_AWAY: 0.468, PTS_AWAY: 0.468, FGM_AWAY: 0.43, FG3_PCT_AWAY: 0.379\n"
     ]
    }
   ],
   "source": [
    "import pandas as pd\n",
    "import sqlite3\n",
    "\n",
    "con = sqlite3.connect('datasets/basketball.sqlite')\n",
    "cur = con.cursor()\n",
    "\n",
    "# SQL select statement using sqlite3 function (returning a list)\n",
    "cur.execute(\"SELECT * FROM game\")\n",
    "L = cur.fetchall()\n",
    "# print(\"List length:\", len(L))\n",
    "# print(L[0])  # print the first record in the table \"game\"\n",
    "\n",
    "# SQL select statement using Pandas\n",
    "# print(str(pd.read_sql_query(\"SELECT * FROM game WHERE SEASON_ID=22020\", con).columns.values).replace(' ', ', '))\n",
    "df = pd.read_sql_query(\"SELECT * FROM game WHERE SEASON_ID=22020\", con)\n",
    "pd.set_option('display.max_columns', None)  # 设置输出列数不受限\n",
    "for i in range(len(df)):  # 将胜负结果设为1或0\n",
    "    if df.iloc[i, 7] == 'W':\n",
    "        df.iloc[i, 7] = 1\n",
    "    if df.iloc[i, 33] == 'W':\n",
    "        df.iloc[i, 33] = 1\n",
    "    if df.iloc[i, 7] == 'L':\n",
    "        df.iloc[i, 7] = 0\n",
    "    if df.iloc[i, 33] == 'L':\n",
    "        df.iloc[i, 33] = 0\n",
    "    if df.iloc[i, 7] is None:  # 无胜负结果的先置-1，不然下面转格式会报错\n",
    "        df.iloc[i, 7] = -1\n",
    "    if df.iloc[i, 33] is None:\n",
    "        df.iloc[i, 33] = -1\n",
    "df['WL_HOME'] = df['WL_HOME'].astype(int)\n",
    "df['WL_AWAY'] = df['WL_AWAY'].astype(int)\n",
    "for i in range(len(df)):  # 再把无结果的转回去\n",
    "    if df.iloc[i, 7] == -1:\n",
    "        df.iloc[i, 7] = None\n",
    "    if df.iloc[i, 33] == -1:\n",
    "        df.iloc[i, 33] = None\n",
    "\n",
    "pearsonHome = df.corr()['WL_HOME'].sort_values(ascending=False)  # 默认使用pearson相关系数\n",
    "homeRow = pearsonHome.index.tolist()\n",
    "homeValue = pearsonHome.values.tolist()\n",
    "pearsonAway = df.corr()['WL_AWAY'].sort_values(ascending=False)  # 默认使用pearson相关系数\n",
    "awayRow = pearsonAway.index.tolist()\n",
    "awayValue = pearsonAway.values.tolist()\n",
    "\n",
    "homeStrong = []\n",
    "homeMid = []\n",
    "awayStrong = []\n",
    "awayMid = []\n",
    "\n",
    "for i in range(len(homeRow)):\n",
    "    if 1 > homeValue[i] >= 0.5:\n",
    "        homeStrong.append({homeRow[i]: round(homeValue[i], 3)})\n",
    "    if 0.5 > homeValue[i] >= 0.3:\n",
    "        homeMid.append({homeRow[i]: round(homeValue[i], 3)})\n",
    "    if 1 > awayValue[i] >= 0.5:\n",
    "        awayStrong.append({awayRow[i]: round(awayValue[i], 3)})\n",
    "    if 0.5 > awayValue[i] >= 0.3:\n",
    "        awayMid.append({awayRow[i]: round(awayValue[i], 3)})\n",
    "\n",
    "print('For home team:')\n",
    "print(\"\\tStrong correlation between win:\")\n",
    "print('\\t\\t' + str(homeStrong).replace('[', '').replace(']', '').replace('{', '').replace('}', '').replace('\\'', ''))\n",
    "print(\"\\tModerate correlation between win:\")\n",
    "print('\\t\\t' + str(homeMid).replace('[', '').replace(']', '').replace('{', '').replace('}', '').replace('\\'', ''))\n",
    "print('\\nFor away team:')\n",
    "print(\"\\tStrong correlation between win:\")\n",
    "print('\\t\\t' + str(awayStrong).replace('[', '').replace(']', '').replace('{', '').replace('}', '').replace('\\'', ''))\n",
    "print(\"\\tModerate correlation between win:\")\n",
    "print('\\t\\t' + str(awayMid).replace('[', '').replace(']', '').replace('{', '').replace('}', '').replace('\\'', ''))\n"
   ],
   "metadata": {
    "collapsed": false,
    "pycharm": {
     "name": "#%%\n"
    }
   }
  },
  {
   "cell_type": "markdown",
   "source": [],
   "metadata": {
    "collapsed": false
   }
  }
 ],
 "metadata": {
  "kernelspec": {
   "display_name": "Python 3",
   "language": "python",
   "name": "python3"
  },
  "language_info": {
   "codemirror_mode": {
    "name": "ipython",
    "version": 2
   },
   "file_extension": ".py",
   "mimetype": "text/x-python",
   "name": "python",
   "nbconvert_exporter": "python",
   "pygments_lexer": "ipython2",
   "version": "2.7.6"
  }
 },
 "nbformat": 4,
 "nbformat_minor": 0
}