{
 "cells": [
  {
   "cell_type": "markdown",
   "source": [
    "# Course Project - NBA data analysis (Due: 20 Dec 2021)\n",
    "\n",
    "Group BD (AKA basketball data analysis)"
   ],
   "metadata": {
    "collapsed": false
   }
  },
  {
   "cell_type": "markdown",
   "source": [
    "## Task-1\n",
    "1. [40%] Your boss would like to know the top-3 players of the best [cost–performance ratio](https://en.wikipedia.org/wiki/Price%E2%80%93performance_ratio) in 2020/2021 season, where the cost and the performance can be calculated by\n",
    "    - PERFORMANCE: [Efficiency equation](https://en.wikipedia.org/wiki/Efficiency_(basketball)#:~:text=The%20NBA%20publishes%20online%20all%20of%20the%20basic,FG%20%E2%88%92%20Missed%20FT%20-%20TO%29%20%2F%20GP) based on the statistics in the **(3) Kaggle 2020/2021 season data**.\n",
    "        - You could replace this equation if there is any better option.\n",
    "    - COST: Salary in talbe \"Player_Salary\" of **(1) Kaggle basketball dataset**.\n",
    "    - You are welcome to develop any better eqaution(s) to estimate the CP ratio to rank the top-3 players.\n"
   ],
   "metadata": {
    "collapsed": false
   }
  },
  {
   "cell_type": "code",
   "metadata": {
    "collapsed": true,
    "pycharm": {
     "name": "#%%\n"
    }
   },
   "source": [
    "import pandas as pd\n",
    "import numpy as np\n",
    "import sqlite3\n",
    "\n",
    "\"\"\"\n",
    "Efficiency equation：\n",
    "(PTS + REB + AST + STL + BLK − Missed FG − Missed FT - TO) / GP\n",
    "PTS: Points 得分\n",
    "REB, OREB, DREB: (Rebound) 篮板, 进攻篮板, 防守篮板\n",
    "AST： (Assist缩写) 助攻\n",
    "STL: Steals 抢断、断球\n",
    "BLK: Blocks 盖帽\n",
    "FG: Field Goals 投球命中（次数）/投篮(总称)，包括两分、三分球的投篮\n",
    "FT：Free Throws 罚球\n",
    "TOV（或TO）: Turnovers 失误次数\n",
    "GM, GP; GS: games played; games started\n",
    "\"\"\"\n",
    "\n",
    "\n",
    "con = sqlite3.connect('datasets/basketball.sqlite')\n",
    "cur = con.cursor()\n",
    "\n",
    "df = pd.read_csv('datasets/nba2021_per_game.csv')\n",
    "\n",
    "cps = {}\n",
    "rank = []\n",
    "\n",
    "\n",
    "def Efficiency(r):\n",
    "    return r['PTS'] + r['ORB'] + r['DRB'] + r['AST'] + r['STL'] + r['BLK'] - (r['FGA'] - r['FG']) \\\n",
    "           - (r['FTA'] - r['FT']) - r['TOV']\n",
    "\n",
    "\n",
    "def get_salary(name):\n",
    "    salarys = pd.read_sql_query(\"SELECT value FROM Player_Salary WHERE namePlayer = ?\", con, params=(name,))\n",
    "    return np.average(salarys) / 1000000 if len(salarys) != 0 else -1\n",
    "\n",
    "\n",
    "for i in range(len(df)):\n",
    "    record = df.iloc[i]\n",
    "    EFF = Efficiency(record)\n",
    "    salary = get_salary(record['Player'])\n",
    "    if salary == -1:\n",
    "        continue\n",
    "    name = EFF / salary\n",
    "    if record['Player'] not in cps.keys():\n",
    "        cps[record['Player']] = []\n",
    "    cps[record['Player']].append(name)\n",
    "\n",
    "for name in cps.keys():\n",
    "    if len(cps[name]) > 1:\n",
    "        cps[name] = np.average(cps[name])\n",
    "    rank.append([name, cps[name]])\n",
    "list.sort(rank, key=lambda x: x[1], reverse=True)\n",
    "print('the top-3 players are:')\n",
    "for i in range(3):\n",
    "    print(*rank[i])"
   ],
   "execution_count": 1,
   "outputs": [
    {
     "name": "stdout",
     "output_type": "stream",
     "text": [
      "the top-3 players are:\n",
      "Chimezie Metu [94.0]\n",
      "Mason Jones [81.26381484852426]\n",
      "Yogi Ferrell [76.57795635957405]\n"
     ]
    }
   ]
  },
  {
   "cell_type": "code",
   "execution_count": null,
   "outputs": [],
   "source": [],
   "metadata": {
    "collapsed": false,
    "pycharm": {
     "name": "#%%\n"
    }
   }
  }
 ],
 "metadata": {
  "kernelspec": {
   "display_name": "Python 3",
   "language": "python",
   "name": "python3"
  },
  "language_info": {
   "codemirror_mode": {
    "name": "ipython",
    "version": 2
   },
   "file_extension": ".py",
   "mimetype": "text/x-python",
   "name": "python",
   "nbconvert_exporter": "python",
   "pygments_lexer": "ipython2",
   "version": "2.7.6"
  }
 },
 "nbformat": 4,
 "nbformat_minor": 0
}